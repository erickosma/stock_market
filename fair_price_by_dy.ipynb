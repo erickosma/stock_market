{
 "cells": [
  {
   "cell_type": "markdown",
   "source": [
    "# Preço justo de ação baseado no DYY"
   ],
   "metadata": {
    "collapsed": false,
    "pycharm": {
     "name": "#%% md\n"
    }
   }
  },
  {
   "cell_type": "markdown",
   "source": [
    "## Import"
   ],
   "metadata": {
    "collapsed": false,
    "pycharm": {
     "name": "#%% md\n"
    }
   }
  },
  {
   "cell_type": "code",
   "execution_count": 71,
   "outputs": [],
   "source": [
    "import  pandas  as pdr\n",
    "import yfinance as yf\n",
    "import pandas as pd"
   ],
   "metadata": {
    "collapsed": false,
    "pycharm": {
     "name": "#%%\n"
    }
   }
  },
  {
   "cell_type": "code",
   "execution_count": 72,
   "outputs": [],
   "source": [
    "#Rendimento anual esperado\n",
    "EXPECTED_DY = 0.6\n",
    "MONTHS = 12\n",
    "\n",
    "symbol = 'TAEE4.SA'\n",
    "#symbol = 'ABEV3.SA'\n",
    "#symbol = 'VISC11.SA'\n",
    "symbol = 'CMIG4.SA'"
   ],
   "metadata": {
    "collapsed": false,
    "pycharm": {
     "name": "#%%\n"
    }
   }
  },
  {
   "cell_type": "code",
   "execution_count": 73,
   "outputs": [
    {
     "data": {
      "text/plain": "{'zip': '30190-131',\n 'sector': 'Utilities',\n 'fullTimeEmployees': 5025,\n 'longBusinessSummary': 'Companhia Energética de Minas Gerais, through its subsidiaries, engages in the generation, transmission, distribution, and sale of energy in Brazil. As of December 31, 2020, the company operated 89 hydroelectric, wind, and solar plants with an installed capacity of 6,000 MW; 339,086 miles of distribution lines; and as of January 27, 2021, it operated 4,374 miles of transmission lines. It is also involved in the acquisition, transportation, and distribution of gas and its sub products and derivatives; provision of cloud solution, IT infrastructure, IT management, and cybersecurity services; provision of technology systems and systems for operational management of public service concessions; sale and trading of energy; provision of telecommunications services; and distributed generation, account services, cogeneration, energy efficiency, and supply and storage management activities. The company was incorporated in 1952 and is headquartered in Belo Horizonte, Brazil.',\n 'city': 'Belo Horizonte',\n 'phone': '55 31 3506 5024',\n 'state': 'MG',\n 'country': 'Brazil',\n 'companyOfficers': [],\n 'website': 'https://www.cemig.com.br',\n 'maxAge': 1,\n 'address1': 'Avenida Barbacena, 1200',\n 'fax': '55 31 3506 5025',\n 'industry': 'Utilities—Diversified',\n 'ebitdaMargins': 0.19886999,\n 'profitMargins': 0.111490004,\n 'grossMargins': 0.1874,\n 'operatingCashflow': 3683356928,\n 'revenueGrowth': 0.329,\n 'operatingMargins': 0.16916999,\n 'ebitda': 6691160064,\n 'targetLowPrice': 9.33,\n 'recommendationKey': 'hold',\n 'grossProfits': 6305237000,\n 'freeCashflow': 2936711424,\n 'targetMedianPrice': 10.88,\n 'currentPrice': 10.57,\n 'earningsGrowth': -0.244,\n 'currentRatio': 1.212,\n 'returnOnAssets': 0.06704,\n 'numberOfAnalystOpinions': 10,\n 'targetMeanPrice': 11.16,\n 'debtToEquity': 59.645,\n 'returnOnEquity': 0.20319,\n 'targetHighPrice': 12.77,\n 'totalCash': 2549296128,\n 'totalDebt': 11607986176,\n 'totalRevenue': 33646118912,\n 'totalCashPerShare': 1.506,\n 'financialCurrency': 'BRL',\n 'revenuePerShare': 19.877,\n 'quickRatio': 1.017,\n 'recommendationMean': 2.8,\n 'exchange': 'SAO',\n 'shortName': 'CEMIG       PN  EDB N1',\n 'longName': 'Companhia Energética de Minas Gerais',\n 'exchangeTimezoneName': 'America/Sao_Paulo',\n 'exchangeTimezoneShortName': 'BRT',\n 'isEsgPopulated': False,\n 'gmtOffSetMilliseconds': '-10800000',\n 'quoteType': 'EQUITY',\n 'symbol': 'CMIG4.SA',\n 'messageBoardId': 'finmb_411574',\n 'market': 'br_market',\n 'annualHoldingsTurnover': None,\n 'enterpriseToRevenue': 0.837,\n 'beta3Year': None,\n 'enterpriseToEbitda': 4.209,\n '52WeekChange': 0.10814524,\n 'morningStarRiskRating': None,\n 'forwardEps': 1.55,\n 'revenueQuarterlyGrowth': None,\n 'sharesOutstanding': 1464679936,\n 'fundInceptionDate': None,\n 'annualReportExpenseRatio': None,\n 'totalAssets': None,\n 'bookValue': 11.494,\n 'sharesShort': None,\n 'sharesPercentSharesOut': None,\n 'fundFamily': None,\n 'lastFiscalYearEnd': 1640908800,\n 'heldPercentInstitutions': 0.46345,\n 'netIncomeToCommon': 3751321088,\n 'trailingEps': 2.216,\n 'lastDividendValue': 0.597416,\n 'SandP52WeekChange': -0.033483148,\n 'priceToBook': 0.91961014,\n 'heldPercentInsiders': 0.03255,\n 'nextFiscalYearEnd': 1703980800,\n 'yield': None,\n 'mostRecentQuarter': 1640908800,\n 'shortRatio': None,\n 'sharesShortPreviousMonthDate': None,\n 'floatShares': 1298292542,\n 'beta': 0.46782,\n 'enterpriseValue': 28165619712,\n 'priceHint': 2,\n 'threeYearAverageReturn': None,\n 'lastSplitDate': 1651449600,\n 'lastSplitFactor': '130:100',\n 'legalType': None,\n 'lastDividendDate': 1651449600,\n 'morningStarOverallRating': None,\n 'earningsQuarterlyGrowth': -0.244,\n 'priceToSalesTrailing12Months': 0.75305724,\n 'dateShortInterest': None,\n 'pegRatio': 2.43,\n 'ytdReturn': None,\n 'forwardPE': 6.819355,\n 'lastCapGain': None,\n 'shortPercentOfFloat': None,\n 'sharesShortPriorMonth': None,\n 'impliedSharesOutstanding': 0,\n 'category': None,\n 'fiveYearAverageReturn': None,\n 'previousClose': 10.46,\n 'regularMarketOpen': 10.5,\n 'twoHundredDayAverage': 10.420188,\n 'trailingAnnualDividendYield': 0.11089866,\n 'payoutRatio': 0.36150002,\n 'volume24Hr': None,\n 'regularMarketDayHigh': 10.66,\n 'navPrice': None,\n 'averageDailyVolume10Day': 11253210,\n 'regularMarketPreviousClose': 10.46,\n 'fiftyDayAverage': 10.981369,\n 'trailingAnnualDividendRate': 1.16,\n 'open': 10.5,\n 'toCurrency': None,\n 'averageVolume10days': 11253210,\n 'expireDate': None,\n 'algorithm': None,\n 'dividendRate': 2.39,\n 'exDividendDate': 1651449600,\n 'circulatingSupply': None,\n 'startDate': None,\n 'regularMarketDayLow': 10.36,\n 'currency': 'BRL',\n 'trailingPE': 4.7698555,\n 'regularMarketVolume': 9343600,\n 'lastMarket': None,\n 'maxSupply': None,\n 'openInterest': None,\n 'marketCap': 25337452544,\n 'volumeAllCurrencies': None,\n 'strikePrice': None,\n 'averageVolume': 12239477,\n 'dayLow': 10.36,\n 'ask': 10.62,\n 'askSize': 0,\n 'volume': 9343600,\n 'fiftyTwoWeekHigh': 12.038461,\n 'fromCurrency': None,\n 'fiveYearAvgDividendYield': 4.28,\n 'fiftyTwoWeekLow': 8.692307,\n 'bid': 10.54,\n 'tradeable': False,\n 'dividendYield': 0.22850001,\n 'bidSize': 0,\n 'dayHigh': 10.66,\n 'regularMarketPrice': 10.57,\n 'preMarketPrice': None,\n 'logo_url': 'https://logo.clearbit.com/cemig.com.br'}"
     },
     "execution_count": 73,
     "metadata": {},
     "output_type": "execute_result"
    }
   ],
   "source": [
    "wallet = yf.Ticker(symbol)\n",
    "wallet.info"
   ],
   "metadata": {
    "collapsed": false,
    "pycharm": {
     "name": "#%%\n"
    }
   }
  },
  {
   "cell_type": "markdown",
   "source": [
    "### Retorna dados"
   ],
   "metadata": {
    "collapsed": false,
    "pycharm": {
     "name": "#%% md\n"
    }
   }
  },
  {
   "cell_type": "code",
   "execution_count": 74,
   "outputs": [
    {
     "data": {
      "text/plain": "            Dividends  year\nDate                       \n2010-04-30   0.237561  2010\n2010-12-17   0.459448  2010\n2011-05-02   0.305296  2011\n2011-12-12   0.433924  2011\n2012-04-30   0.330302  2012\n2012-12-26   0.612597  2012\n2013-05-02   0.621841  2013\n2013-12-06   0.322029  2013\n2013-12-18   0.117701  2013\n2014-05-02   0.573052  2014\n2014-06-30   0.869904  2014\n2014-11-10   0.561552  2014\n2014-12-29   0.117417  2014\n2015-05-04   0.289619  2015\n2016-01-04   0.102101  2016\n2016-05-02   0.221544  2016\n2016-12-27   0.193992  2016\n2017-05-15   0.078227  2017\n2018-05-02   0.331519  2018\n2018-12-26   0.095432  2018\n2019-05-06   0.298724  2019\n2019-12-26   0.181775  2019\n2020-08-03   0.172304  2020\n2020-09-28   0.054532  2020\n2021-01-04   0.196992  2021\n2021-05-03   0.422017  2021\n2021-12-22   0.434115  2021\n2022-03-29   0.459551  2022\n2022-05-02   0.597416  2022",
      "text/html": "<div>\n<style scoped>\n    .dataframe tbody tr th:only-of-type {\n        vertical-align: middle;\n    }\n\n    .dataframe tbody tr th {\n        vertical-align: top;\n    }\n\n    .dataframe thead th {\n        text-align: right;\n    }\n</style>\n<table border=\"1\" class=\"dataframe\">\n  <thead>\n    <tr style=\"text-align: right;\">\n      <th></th>\n      <th>Dividends</th>\n      <th>year</th>\n    </tr>\n    <tr>\n      <th>Date</th>\n      <th></th>\n      <th></th>\n    </tr>\n  </thead>\n  <tbody>\n    <tr>\n      <th>2010-04-30</th>\n      <td>0.237561</td>\n      <td>2010</td>\n    </tr>\n    <tr>\n      <th>2010-12-17</th>\n      <td>0.459448</td>\n      <td>2010</td>\n    </tr>\n    <tr>\n      <th>2011-05-02</th>\n      <td>0.305296</td>\n      <td>2011</td>\n    </tr>\n    <tr>\n      <th>2011-12-12</th>\n      <td>0.433924</td>\n      <td>2011</td>\n    </tr>\n    <tr>\n      <th>2012-04-30</th>\n      <td>0.330302</td>\n      <td>2012</td>\n    </tr>\n    <tr>\n      <th>2012-12-26</th>\n      <td>0.612597</td>\n      <td>2012</td>\n    </tr>\n    <tr>\n      <th>2013-05-02</th>\n      <td>0.621841</td>\n      <td>2013</td>\n    </tr>\n    <tr>\n      <th>2013-12-06</th>\n      <td>0.322029</td>\n      <td>2013</td>\n    </tr>\n    <tr>\n      <th>2013-12-18</th>\n      <td>0.117701</td>\n      <td>2013</td>\n    </tr>\n    <tr>\n      <th>2014-05-02</th>\n      <td>0.573052</td>\n      <td>2014</td>\n    </tr>\n    <tr>\n      <th>2014-06-30</th>\n      <td>0.869904</td>\n      <td>2014</td>\n    </tr>\n    <tr>\n      <th>2014-11-10</th>\n      <td>0.561552</td>\n      <td>2014</td>\n    </tr>\n    <tr>\n      <th>2014-12-29</th>\n      <td>0.117417</td>\n      <td>2014</td>\n    </tr>\n    <tr>\n      <th>2015-05-04</th>\n      <td>0.289619</td>\n      <td>2015</td>\n    </tr>\n    <tr>\n      <th>2016-01-04</th>\n      <td>0.102101</td>\n      <td>2016</td>\n    </tr>\n    <tr>\n      <th>2016-05-02</th>\n      <td>0.221544</td>\n      <td>2016</td>\n    </tr>\n    <tr>\n      <th>2016-12-27</th>\n      <td>0.193992</td>\n      <td>2016</td>\n    </tr>\n    <tr>\n      <th>2017-05-15</th>\n      <td>0.078227</td>\n      <td>2017</td>\n    </tr>\n    <tr>\n      <th>2018-05-02</th>\n      <td>0.331519</td>\n      <td>2018</td>\n    </tr>\n    <tr>\n      <th>2018-12-26</th>\n      <td>0.095432</td>\n      <td>2018</td>\n    </tr>\n    <tr>\n      <th>2019-05-06</th>\n      <td>0.298724</td>\n      <td>2019</td>\n    </tr>\n    <tr>\n      <th>2019-12-26</th>\n      <td>0.181775</td>\n      <td>2019</td>\n    </tr>\n    <tr>\n      <th>2020-08-03</th>\n      <td>0.172304</td>\n      <td>2020</td>\n    </tr>\n    <tr>\n      <th>2020-09-28</th>\n      <td>0.054532</td>\n      <td>2020</td>\n    </tr>\n    <tr>\n      <th>2021-01-04</th>\n      <td>0.196992</td>\n      <td>2021</td>\n    </tr>\n    <tr>\n      <th>2021-05-03</th>\n      <td>0.422017</td>\n      <td>2021</td>\n    </tr>\n    <tr>\n      <th>2021-12-22</th>\n      <td>0.434115</td>\n      <td>2021</td>\n    </tr>\n    <tr>\n      <th>2022-03-29</th>\n      <td>0.459551</td>\n      <td>2022</td>\n    </tr>\n    <tr>\n      <th>2022-05-02</th>\n      <td>0.597416</td>\n      <td>2022</td>\n    </tr>\n  </tbody>\n</table>\n</div>"
     },
     "execution_count": 74,
     "metadata": {},
     "output_type": "execute_result"
    }
   ],
   "source": [
    "# pandas\n",
    "divdend = wallet.dividends\n",
    "df = pd.DataFrame(divdend)\n",
    "# Separando coluna anos\n",
    "df['year'] = df.index.year\n",
    "df"
   ],
   "metadata": {
    "collapsed": false,
    "pycharm": {
     "name": "#%%\n"
    }
   }
  },
  {
   "cell_type": "markdown",
   "source": [
    "### Taxa dividendos"
   ],
   "metadata": {
    "collapsed": false,
    "pycharm": {
     "name": "#%% md\n"
    }
   }
  },
  {
   "cell_type": "code",
   "execution_count": 75,
   "outputs": [
    {
     "data": {
      "text/plain": "2.39"
     },
     "execution_count": 75,
     "metadata": {},
     "output_type": "execute_result"
    }
   ],
   "source": [
    "dividendRate = wallet.info['dividendRate']\n",
    "dividendRate"
   ],
   "metadata": {
    "collapsed": false,
    "pycharm": {
     "name": "#%%\n"
    }
   }
  },
  {
   "cell_type": "markdown",
   "source": [
    "## Dividindo a media por ano"
   ],
   "metadata": {
    "collapsed": false,
    "pycharm": {
     "name": "#%% md\n"
    }
   }
  },
  {
   "cell_type": "code",
   "execution_count": 76,
   "outputs": [
    {
     "data": {
      "text/plain": "      Dividends\nyear           \n2010   0.697009\n2011   0.739220\n2012   0.942899\n2013   1.061571\n2014   2.121925\n2015   0.289619\n2016   0.517637\n2017   0.078227\n2018   0.426951\n2019   0.480499\n2020   0.226836\n2021   1.053124\n2022   1.056967",
      "text/html": "<div>\n<style scoped>\n    .dataframe tbody tr th:only-of-type {\n        vertical-align: middle;\n    }\n\n    .dataframe tbody tr th {\n        vertical-align: top;\n    }\n\n    .dataframe thead th {\n        text-align: right;\n    }\n</style>\n<table border=\"1\" class=\"dataframe\">\n  <thead>\n    <tr style=\"text-align: right;\">\n      <th></th>\n      <th>Dividends</th>\n    </tr>\n    <tr>\n      <th>year</th>\n      <th></th>\n    </tr>\n  </thead>\n  <tbody>\n    <tr>\n      <th>2010</th>\n      <td>0.697009</td>\n    </tr>\n    <tr>\n      <th>2011</th>\n      <td>0.739220</td>\n    </tr>\n    <tr>\n      <th>2012</th>\n      <td>0.942899</td>\n    </tr>\n    <tr>\n      <th>2013</th>\n      <td>1.061571</td>\n    </tr>\n    <tr>\n      <th>2014</th>\n      <td>2.121925</td>\n    </tr>\n    <tr>\n      <th>2015</th>\n      <td>0.289619</td>\n    </tr>\n    <tr>\n      <th>2016</th>\n      <td>0.517637</td>\n    </tr>\n    <tr>\n      <th>2017</th>\n      <td>0.078227</td>\n    </tr>\n    <tr>\n      <th>2018</th>\n      <td>0.426951</td>\n    </tr>\n    <tr>\n      <th>2019</th>\n      <td>0.480499</td>\n    </tr>\n    <tr>\n      <th>2020</th>\n      <td>0.226836</td>\n    </tr>\n    <tr>\n      <th>2021</th>\n      <td>1.053124</td>\n    </tr>\n    <tr>\n      <th>2022</th>\n      <td>1.056967</td>\n    </tr>\n  </tbody>\n</table>\n</div>"
     },
     "execution_count": 76,
     "metadata": {},
     "output_type": "execute_result"
    }
   ],
   "source": [
    "stock_grp = df.groupby(by=[\"year\"]).sum()\n",
    "stock_grp.tail(20)"
   ],
   "metadata": {
    "collapsed": false,
    "pycharm": {
     "name": "#%%\n"
    }
   }
  },
  {
   "cell_type": "markdown",
   "source": [
    "### Media dividendos"
   ],
   "metadata": {
    "collapsed": false,
    "pycharm": {
     "name": "#%% md\n"
    }
   }
  },
  {
   "cell_type": "code",
   "execution_count": 77,
   "outputs": [
    {
     "data": {
      "text/plain": "Dividends    8.364108\ndtype: float64"
     },
     "execution_count": 77,
     "metadata": {},
     "output_type": "execute_result"
    }
   ],
   "source": [
    "mean_dy = stock_grp.median()*MONTHS\n",
    "mean_dy"
   ],
   "metadata": {
    "collapsed": false,
    "pycharm": {
     "name": "#%%\n"
    }
   }
  },
  {
   "cell_type": "markdown",
   "source": [
    "### Ultimo dividendo"
   ],
   "metadata": {
    "collapsed": false,
    "pycharm": {
     "name": "#%% md\n"
    }
   }
  },
  {
   "cell_type": "code",
   "execution_count": 78,
   "outputs": [
    {
     "data": {
      "text/plain": "7.168991999999999"
     },
     "execution_count": 78,
     "metadata": {},
     "output_type": "execute_result"
    }
   ],
   "source": [
    "df2 = df.iloc[[0, -1]]\n",
    "last_dy  = df2.iloc[1, 0]*MONTHS\n",
    "last_dy"
   ],
   "metadata": {
    "collapsed": false,
    "pycharm": {
     "name": "#%%\n"
    }
   }
  },
  {
   "cell_type": "markdown",
   "source": [
    "## Preço"
   ],
   "metadata": {
    "collapsed": false,
    "pycharm": {
     "name": "#%% md\n"
    }
   }
  },
  {
   "cell_type": "code",
   "execution_count": 79,
   "outputs": [
    {
     "data": {
      "text/plain": "11.95"
     },
     "execution_count": 79,
     "metadata": {},
     "output_type": "execute_result"
    }
   ],
   "source": [
    "price =  round(last_dy/EXPECTED_DY, 2)\n",
    "price"
   ],
   "metadata": {
    "collapsed": false,
    "pycharm": {
     "name": "#%%\n"
    }
   }
  },
  {
   "cell_type": "markdown",
   "source": [
    "## Teto"
   ],
   "metadata": {
    "collapsed": false,
    "pycharm": {
     "name": "#%% md\n"
    }
   }
  },
  {
   "cell_type": "code",
   "execution_count": 80,
   "outputs": [
    {
     "data": {
      "text/plain": "Dividends    13.94\ndtype: float64"
     },
     "execution_count": 80,
     "metadata": {},
     "output_type": "execute_result"
    }
   ],
   "source": [
    "mean_price =  round(mean_dy/EXPECTED_DY,2)\n",
    "mean_price"
   ],
   "metadata": {
    "collapsed": false,
    "pycharm": {
     "name": "#%%\n"
    }
   }
  },
  {
   "cell_type": "markdown",
   "source": [
    "## Medio"
   ],
   "metadata": {
    "collapsed": false,
    "pycharm": {
     "name": "#%% md\n"
    }
   }
  },
  {
   "cell_type": "code",
   "execution_count": 81,
   "outputs": [
    {
     "data": {
      "text/plain": "Dividends    12.94\ndtype: float64"
     },
     "execution_count": 81,
     "metadata": {},
     "output_type": "execute_result"
    }
   ],
   "source": [
    "round((mean_price+price)/2, 2)"
   ],
   "metadata": {
    "collapsed": false,
    "pycharm": {
     "name": "#%%\n"
    }
   }
  },
  {
   "cell_type": "markdown",
   "source": [],
   "metadata": {
    "collapsed": false,
    "pycharm": {
     "name": "#%% md\n"
    }
   }
  }
 ],
 "metadata": {
  "kernelspec": {
   "display_name": "Python 3",
   "language": "python",
   "name": "python3"
  },
  "language_info": {
   "codemirror_mode": {
    "name": "ipython",
    "version": 2
   },
   "file_extension": ".py",
   "mimetype": "text/x-python",
   "name": "python",
   "nbconvert_exporter": "python",
   "pygments_lexer": "ipython2",
   "version": "2.7.6"
  }
 },
 "nbformat": 4,
 "nbformat_minor": 0
}